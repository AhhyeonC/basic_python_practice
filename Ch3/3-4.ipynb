{
 "cells": [
  {
   "cell_type": "markdown",
   "id": "6e226337",
   "metadata": {},
   "source": [
    "# 3-4. 막대 그래프 (Bar Chart)"
   ]
  },
  {
   "cell_type": "markdown",
   "id": "2da64256",
   "metadata": {},
   "source": [
    "## 3-4-1. 기본적인 막대 그래프"
   ]
  },
  {
   "cell_type": "code",
   "execution_count": 1,
   "id": "2aba9859",
   "metadata": {},
   "outputs": [],
   "source": [
    "import numpy as np\n",
    "from netCDF4 import Dataset\n",
    "import matplotlib.pyplot as plt\n",
    "from datetime import date, timedelta"
   ]
  },
  {
   "cell_type": "code",
   "execution_count": 2,
   "id": "5e06ecdf",
   "metadata": {},
   "outputs": [],
   "source": [
    "startyear=2000\n",
    "endyear=2019\n",
    "lat1=15\n",
    "lat2=75"
   ]
  },
  {
   "cell_type": "code",
   "execution_count": 3,
   "id": "70f0d2ef",
   "metadata": {},
   "outputs": [],
   "source": [
    "def get_var_DJF(varname, latcenter):\n",
    "    \n",
    "    minlat = latcenter - 5\n",
    "    maxlat = latcenter + 5\n",
    "    minlon = 0\n",
    "    maxlon = 360\n",
    "    \n",
    "    f=Dataset(varname+\".mon.mean.nc\", \"r\")\n",
    "    lat=np.squeeze(f.variables[\"lat\"][:]) #lat 좌표값  \n",
    "    lon=np.squeeze(f.variables[\"lon\"][:]) #lon 좌표값\n",
    "    ind_lat = np.logical_and(lat>=minlat, lat<=maxlat) #Boolean 형태의 array\n",
    "    ind_lon = np.logical_and(lon>=minlon, lon<=maxlon) #Boolean 형태의 array\n",
    "    nlat, nlon = ind_lat.sum(), ind_lon.sum()\n",
    "    #print(ind_lat, ind_lon)\n",
    "    \n",
    "    time=np.squeeze(f.variables[\"time\"][:])\n",
    "    #print(time) #datetime64[ns] 형태로 저장되어 있음. \n",
    "    #1800년도를 기준으로 몇시간 뒤인지 형태로 저장되어있음..;\n",
    "    #1297320 = (1948-1800까지의 총 일 수 = 54,055일) *24  hrs\n",
    "    time=np.array([date(1800,1,1)+timedelta(hours=x) for x in time])\n",
    "    #그래서 기준이 되는 1800년 1월 1일에 timedelta 를 더해주면 \n",
    "    #[yyyy-mm-dd] 형태로 날짜가 변환이 될 수 있는 것이지\n",
    "    #미친거 아님?\n",
    "    #결론 : 걍 xarray 쓰셈\n",
    "    print(time[0])\n",
    "    years=np.array([x.year for x in time])\n",
    "    #print(time[0].year) #1948 출력\n",
    "    months=np.array([x.month for x in time])\n",
    "    \n",
    "    condition_year = np.logical_and(years>=startyear, years<=endyear)\n",
    "    condition_month = np.logical_or(months<=2, months ==12)\n",
    "    \n",
    "    ind_time=np.logical_and(condition_year, condition_month)\n",
    "    #print(ind_time)\n",
    "    \n",
    "    var=np.squeeze(f.variables[varname][ind_time,ind_lat,ind_lon])\n",
    "    var=var.reshape(-1)\n",
    "    #print(var)\n",
    "    print(np.shape(var))\n",
    "    \n",
    "    return(var)"
   ]
  },
  {
   "cell_type": "code",
   "execution_count": 4,
   "id": "fb01fa11",
   "metadata": {},
   "outputs": [
    {
     "name": "stdout",
     "output_type": "stream",
     "text": [
      "1948-01-01\n",
      "(43200,)\n",
      "1948-01-01\n",
      "(43200,)\n"
     ]
    },
    {
     "data": {
      "text/plain": [
       "(2, 43200)"
      ]
     },
     "execution_count": 4,
     "metadata": {},
     "output_type": "execute_result"
    }
   ],
   "source": [
    "rhum1 = get_var_DJF(\"rhum\", lat1)\n",
    "rhum2 = get_var_DJF(\"rhum\", lat2)\n",
    "rhum = np.vstack((rhum1, rhum2)) #2차원 배열 / 행렬로 합치기 column수 같아야함\n",
    "#자매품 np.hstack raw수 같아야함.\n",
    "N = np.shape(rhum)[1]\n",
    "np.shape(rhum)"
   ]
  },
  {
   "cell_type": "code",
   "execution_count": 5,
   "id": "0f69fdf9",
   "metadata": {},
   "outputs": [
    {
     "name": "stdout",
     "output_type": "stream",
     "text": [
      "[0.0025463  0.06180555 0.05210648 0.0325     0.0250463  0.03768519\n",
      " 0.06495371 0.30641204 0.4065509  0.01039352]\n",
      "[0.00219907 0.00710648 0.01236111 0.02805556 0.04789352 0.08173611\n",
      " 0.12138889 0.18962963 0.3476852  0.16194445]\n",
      "[0.0025463  0.06435185 0.11645833 0.14895833 0.17400461 0.2116898\n",
      " 0.2766435  0.58305556 0.9896065  1.        ]\n",
      "[0.00219907 0.00930556 0.02166667 0.04972222 0.09761574 0.17935185\n",
      " 0.30074075 0.4903704  0.8380556  1.        ]\n"
     ]
    }
   ],
   "source": [
    "bins = np.arange(5, 95+10, 10) #각 구간의 중간값\n",
    "binedges = np.arange(0, 100+10, 10) # 각 구간의 경계값\n",
    "\n",
    "freq = np.zeros((2,len(bins)), np.float32) #(2*10) 0으로 가득찬 행렬\n",
    "\n",
    "for i in range(2):\n",
    "    freq[i,:] = np.histogram(rhum[i,:], binedges, density = False )[0] /N\n",
    "    #N = 43200\n",
    "    #binedges = [0, 10, 20, 30, 40, ..., 90, 100] -> bins = binedges\n",
    "print(freq[0,:])\n",
    "print(freq[1,:])\n",
    "\n",
    "cumfreq = np.cumsum(freq, axis=1)\n",
    "#axis = 1 | sum over columns for each of the 2 rows #가로줄 -> 방향으로 누적합\n",
    "#axis = 0 | sum over rows for each of the 43200 columns #세로줄 ↓ 방향으로 누적합.\n",
    "\n",
    "print(cumfreq[0,:])\n",
    "print(cumfreq[1,:])"
   ]
  },
  {
   "cell_type": "code",
   "execution_count": 6,
   "id": "2ecab888",
   "metadata": {},
   "outputs": [
    {
     "data": {
      "text/plain": [
       "array([  0,  10,  20,  30,  40,  50,  60,  70,  80,  90, 100])"
      ]
     },
     "execution_count": 6,
     "metadata": {},
     "output_type": "execute_result"
    }
   ],
   "source": [
    "binedges"
   ]
  },
  {
   "cell_type": "code",
   "execution_count": 7,
   "id": "745dd3d3",
   "metadata": {},
   "outputs": [
    {
     "name": "stdout",
     "output_type": "stream",
     "text": [
      "[0.0025463  0.06435185 0.11645833 0.14895833 0.17400463 0.21168981\n",
      " 0.27664352 0.58305556 0.98960648 1.        ]\n",
      "[0.00219907 0.00930556 0.02166667 0.04972222 0.09761574 0.17935185\n",
      " 0.30074074 0.49037037 0.83805556 1.        ]\n"
     ]
    },
    {
     "data": {
      "image/png": "[encoded data removed]",
      "text/plain": [
       "<Figure size 576x504 with 4 Axes>"
      ]
     },
     "metadata": {
      "needs_background": "light"
     },
     "output_type": "display_data"
    }
   ],
   "source": [
    "plot_cumulative = True #True일 땐 누적분포, False 일 땐 확률 밀도\n",
    "fig = plt.figure(figsize=(8,7))\n",
    "titles = [str(lat1)+\"N\", str(lat2)+\"N\"]\n",
    "colors=[\"r\",\"b\"]\n",
    "xticks = np.arange(0,100+10,10)\n",
    "\n",
    "if plot_cumulative: #True면 즉, 누적분포를 그린다고 설정하면\n",
    "    yticks = np.arange(0,1.1+0.1,0.1)\n",
    "else: #확률 밀도 함수\n",
    "    yticks = np.arange(0,0.5+0.1,0.1)\n",
    "    \n",
    "for i in range(2):\n",
    "    for j in range(2):\n",
    "        fig.add_subplot(2,2,2*i+j+1)\n",
    "        if j==0:\n",
    "            histogram = plt.hist(rhum[i,:], xticks, density = True, align=\"mid\", orientation=\"vertical\",\n",
    "                                rwidth=0.7, color=colors[i], cumulative=plot_cumulative)\n",
    "            \n",
    "            print(histogram[0])\n",
    "            \n",
    "        else: \n",
    "            if plot_cumulative:\n",
    "                plt.bar(bins, cumfreq[i,:], width = 7, align='center', color=colors[i])\n",
    "                \n",
    "            else: \n",
    "                plt.bar(bins,freq[i,:], align=\"center\", color=colors[i])\n",
    "                    \n",
    "        if plot_cumulative:\n",
    "            plt.axis((0,100,0,1.2))\n",
    "        else: \n",
    "            plt.axis((0,100,0,0.5))    \n",
    "                \n",
    "            \n",
    "        plt.xlabel(\"relative humidity (%)\", fontsize=8)\n",
    "        plt.xticks(xticks, label=[str(x) for x in xticks], fontsize=7)\n",
    "        if j ==0:\n",
    "            if plot_cumulative:\n",
    "                plt.ylabel(\"cumulative probability\",fontsize=8)\n",
    "            else:\n",
    "                plt.ylabel(\"probability x 0.1\", fontsize=8)\n",
    "                    \n",
    "        else:\n",
    "            if plot_cumulative:\n",
    "                plt.ylabel(\"cumulative probability\", fontsize=8)\n",
    "            else:\n",
    "                plt.ylabel(\"probability\", fontsize=8)\n",
    "                    \n",
    "        plt.yticks(yticks, label=[str(y) for y in yticks], fontsize=7)\n",
    "        plt.title(titles[i], fontsize=10)\n",
    "            \n",
    "plt.suptitle(\"Distribution of RH(DJF)\", fontsize=12) #add a centered suptitle to the figure.\n",
    "plt.subplots_adjust(top=0.9, bottom=0.1, left=0.1, right=0.95, wspace=0.2, hspace=0.25)\n",
    "\n",
    "plt.show()"
   ]
  },
  {
   "cell_type": "code",
   "execution_count": 21,
   "id": "e738c4ef",
   "metadata": {},
   "outputs": [
    {
     "data": {
      "image/png": "[encoded data removed]",
      "text/plain": [
       "<Figure size 576x288 with 2 Axes>"
      ]
     },
     "metadata": {
      "needs_background": "light"
     },
     "output_type": "display_data"
    }
   ],
   "source": [
    "fig = plt.figure(figsize=(8,4))\n",
    "titles = [\"histogram\", \"bar graph\"]\n",
    "colors = [\"r\", \"b\"]\n",
    "labels = [str(lat1)+'N', str(lat2)+'N']\n",
    "xticks = np.arange(0,100+10,10)\n",
    "yticks = np.arange(0,0.5+0.1,0.1)\n",
    "\n",
    "for i in range(2):\n",
    "    fig.add_subplot(1,2,i+1)\n",
    "    \n",
    "    if i==0:\n",
    "        plt.hist(rhum.T, xticks, density=True, rwidth=0.7, align=\"mid\", orientation=\"vertical\",\n",
    "                color=colors, label=labels)\n",
    "        \n",
    "        plt.ylabel(\"probability x 0,1\", fontsize=8)\n",
    "        plt.axis((0,100,0,0.05))\n",
    "        plt.yticks(yticks/10, label = [str(y) for y in yticks/10], fontsize=7)\n",
    "        \n",
    "    else:\n",
    "        for j in range(2):\n",
    "            plt.bar(bins+2.5*(j-0.05), freq[j,:], width=2.5, align='center', color=colors[j],\n",
    "                   label=labels[j])\n",
    "            \n",
    "            \n",
    "        plt.ylabel(\"probability\", fontsize=8)\n",
    "        plt.axis((0,100,0,0.5))\n",
    "        plt.yticks(yticks, label=[str(y) for y in yticks], fontsize=7)\n",
    "        \n",
    "    plt.legend(loc='upper left', fontsize=9)\n",
    "    plt.xlabel(\"relative humidity (%)\", fontsize=8)\n",
    "    plt.xticks(xticks, label=[str(x) for x in xticks], fontsize=7)\n",
    "    plt.title(titles[i], fontsize=10)\n",
    "    \n",
    "    \n",
    "plt.suptitle(\"Distribution of RH(DJF)\", fontsize=12)\n",
    "plt.subplots_adjust(top=0.9, bottom=0.1, left=0.1, right=0.95, wspace=0.5, hspace=0)\n",
    "\n",
    "plt.show()"
   ]
  },
  {
   "cell_type": "code",
   "execution_count": 18,
   "id": "d416c224",
   "metadata": {},
   "outputs": [
    {
     "name": "stdout",
     "output_type": "stream",
     "text": [
      "[ 4.875 14.875 24.875 34.875 44.875 54.875 64.875 74.875 84.875 94.875]\n",
      "[ 7.375 17.375 27.375 37.375 47.375 57.375 67.375 77.375 87.375 97.375]\n",
      "[ 5 15 25 35 45 55 65 75 85 95]\n"
     ]
    }
   ],
   "source": [
    "print(bins+2.5*(0-0.05))\n",
    "print(bins+2.5*(1-0.05))\n",
    "print(bins)"
   ]
  }
 ],
 "metadata": {
  "kernelspec": {
   "display_name": "Python 3 (ipykernel)",
   "language": "python",
   "name": "python3"
  },
  "language_info": {
   "codemirror_mode": {
    "name": "ipython",
    "version": 3
   },
   "file_extension": ".py",
   "mimetype": "text/x-python",
   "name": "python",
   "nbconvert_exporter": "python",
   "pygments_lexer": "ipython3",
   "version": "3.9.7"
  }
 },
 "nbformat": 4,
 "nbformat_minor": 5
}
