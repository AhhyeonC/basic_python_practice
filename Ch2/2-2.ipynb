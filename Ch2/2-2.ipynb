{
 "cells": [
  {
   "cell_type": "markdown",
   "id": "8a670235",
   "metadata": {},
   "source": [
    "# 2-2. Numpy 패키지 (Base N-dimensional array package)"
   ]
  },
  {
   "cell_type": "code",
   "execution_count": 1,
   "id": "b0350faf",
   "metadata": {},
   "outputs": [],
   "source": [
    "import numpy as np\n",
    "import matplotlib.pyplot as plt\n",
    "np.set_printoptions(precision=3) # 소숫점 표현방식. 배열값 보기 편하게 조정"
   ]
  },
  {
   "cell_type": "markdown",
   "id": "8a8b1d56",
   "metadata": {},
   "source": [
    "## 2-2-1. 배열 만들기"
   ]
  },
  {
   "cell_type": "code",
   "execution_count": 2,
   "id": "bcd94394",
   "metadata": {},
   "outputs": [
    {
     "name": "stdout",
     "output_type": "stream",
     "text": [
      "1\n"
     ]
    }
   ],
   "source": [
    "arry = np.array([1,2,3])\n",
    "print(arry[0])"
   ]
  },
  {
   "cell_type": "code",
   "execution_count": 3,
   "id": "08587b76",
   "metadata": {},
   "outputs": [
    {
     "name": "stdout",
     "output_type": "stream",
     "text": [
      "(2, 3)\n"
     ]
    }
   ],
   "source": [
    "multi_arry = np.array([[1,2,3],[4,5,6]])\n",
    "print(multi_arry.shape) "
   ]
  },
  {
   "cell_type": "code",
   "execution_count": 4,
   "id": "886cb5d8",
   "metadata": {},
   "outputs": [
    {
     "name": "stdout",
     "output_type": "stream",
     "text": [
      "[1 2]\n"
     ]
    }
   ],
   "source": [
    "print(multi_arry[0][0:2]) #첫번째 행의 0~1번째 값"
   ]
  },
  {
   "cell_type": "code",
   "execution_count": 5,
   "id": "494cfb31",
   "metadata": {},
   "outputs": [],
   "source": [
    "## 2-2-2. 자료 불러오기"
   ]
  },
  {
   "cell_type": "code",
   "execution_count": 6,
   "id": "50382e33",
   "metadata": {},
   "outputs": [],
   "source": [
    "import numpy as np\n",
    "import pandas as pd\n",
    "import matplotlib.pyplot as plt\n",
    "np.set_printoptions(precision=3)\n",
    "\n",
    "raw_file = 'KMA_seoul_raw_data.csv'\n",
    "seoul = np.genfromtxt(raw_file, encoding='euc-kr',dtype=None, \n",
    "                      delimiter=',',\n",
    "                     names=('loc_num','loc_name','date','conc'),\n",
    "                     comments='#', skip_header=1)"
   ]
  },
  {
   "cell_type": "code",
   "execution_count": 7,
   "id": "5b8c33ed",
   "metadata": {},
   "outputs": [
    {
     "name": "stdout",
     "output_type": "stream",
     "text": [
      "[(108, '서울', 'May-08', 63) (108, '서울', 'Jun-08', 42)\n",
      " (108, '서울', 'Jul-08', 37) (108, '서울', 'Aug-08', 27)]\n",
      "(140,)\n"
     ]
    }
   ],
   "source": [
    "print(seoul[0:4]) #튜블형식으로 저장되어있음을 화긴할 수 있다. \n",
    "print(seoul.shape)"
   ]
  },
  {
   "cell_type": "code",
   "execution_count": 8,
   "id": "39f26892",
   "metadata": {},
   "outputs": [
    {
     "name": "stdout",
     "output_type": "stream",
     "text": [
      "(48,)\n"
     ]
    }
   ],
   "source": [
    "seoul = seoul[8:56] #2009년 1월 부터 2012년 12월까지로 자료를 제한\n",
    "print(seoul.shape)"
   ]
  },
  {
   "cell_type": "code",
   "execution_count": 9,
   "id": "e0a70680",
   "metadata": {},
   "outputs": [
    {
     "name": "stdout",
     "output_type": "stream",
     "text": [
      "<class 'numpy.ndarray'>\n"
     ]
    }
   ],
   "source": [
    "print(type(seoul))"
   ]
  },
  {
   "cell_type": "code",
   "execution_count": 10,
   "id": "30ee3f5d",
   "metadata": {},
   "outputs": [
    {
     "name": "stdout",
     "output_type": "stream",
     "text": [
      "[('loc_num', '<i4'), ('loc_name', '<U2'), ('date', '<U6'), ('conc', '<i4')]\n"
     ]
    }
   ],
   "source": [
    "print(seoul.dtype) #저장된 변수의 타입을 표시"
   ]
  },
  {
   "cell_type": "code",
   "execution_count": 11,
   "id": "02aea4db",
   "metadata": {},
   "outputs": [
    {
     "name": "stdout",
     "output_type": "stream",
     "text": [
      "[(108, '서울', 'Jan-09', 57) (108, '서울', 'Feb-09', 81)\n",
      " (108, '서울', 'Mar-09', 59) (108, '서울', 'Apr-09', 63)\n",
      " (108, '서울', 'May-09', 56)]\n"
     ]
    }
   ],
   "source": [
    "print(seoul[0:5])"
   ]
  },
  {
   "cell_type": "code",
   "execution_count": 12,
   "id": "58791614",
   "metadata": {},
   "outputs": [
    {
     "name": "stdout",
     "output_type": "stream",
     "text": [
      "['Jan-09' 'Feb-09' 'Mar-09' 'Apr-09' 'May-09']\n"
     ]
    }
   ],
   "source": [
    "print(seoul['date'][0:5])"
   ]
  },
  {
   "cell_type": "code",
   "execution_count": 13,
   "id": "ee480cde",
   "metadata": {},
   "outputs": [
    {
     "name": "stdout",
     "output_type": "stream",
     "text": [
      "[57 81 59 63 56]\n"
     ]
    }
   ],
   "source": [
    "print(seoul['conc'][0:5])"
   ]
  },
  {
   "cell_type": "code",
   "execution_count": 14,
   "id": "b988242e",
   "metadata": {},
   "outputs": [
    {
     "data": {
      "image/png": "[encoded data removed]",
      "text/plain": [
       "<Figure size 432x288 with 1 Axes>"
      ]
     },
     "metadata": {
      "needs_background": "light"
     },
     "output_type": "display_data"
    }
   ],
   "source": [
    "plt.plot(seoul['conc']);\n",
    "plt.show()"
   ]
  },
  {
   "cell_type": "markdown",
   "id": "e56fc906",
   "metadata": {},
   "source": [
    "# 2-2-3. 기본적인 통계기법 사용"
   ]
  },
  {
   "cell_type": "code",
   "execution_count": 15,
   "id": "18f570cc",
   "metadata": {},
   "outputs": [],
   "source": [
    "seoul_values = seoul['conc']"
   ]
  },
  {
   "cell_type": "code",
   "execution_count": 16,
   "id": "0faca887",
   "metadata": {},
   "outputs": [
    {
     "data": {
      "text/plain": [
       "numpy.ndarray"
      ]
     },
     "execution_count": 16,
     "metadata": {},
     "output_type": "execute_result"
    }
   ],
   "source": [
    "type(seoul_values)"
   ]
  },
  {
   "cell_type": "code",
   "execution_count": 17,
   "id": "66cedbdc",
   "metadata": {},
   "outputs": [
    {
     "data": {
      "text/plain": [
       "24"
      ]
     },
     "execution_count": 17,
     "metadata": {},
     "output_type": "execute_result"
    }
   ],
   "source": [
    "seoul_values.min() #최솟값 ; np.min(seoul_values) 도 같은 결과"
   ]
  },
  {
   "cell_type": "code",
   "execution_count": 18,
   "id": "ff15e3c8",
   "metadata": {},
   "outputs": [
    {
     "data": {
      "text/plain": [
       "81"
      ]
     },
     "execution_count": 18,
     "metadata": {},
     "output_type": "execute_result"
    }
   ],
   "source": [
    "seoul_values.max()"
   ]
  },
  {
   "cell_type": "code",
   "execution_count": 19,
   "id": "72d870be",
   "metadata": {},
   "outputs": [
    {
     "data": {
      "text/plain": [
       "47.083333333333336"
      ]
     },
     "execution_count": 19,
     "metadata": {},
     "output_type": "execute_result"
    }
   ],
   "source": [
    "seoul_values.mean() #평균 ; np.mean(seoul_values)"
   ]
  },
  {
   "cell_type": "code",
   "execution_count": 20,
   "id": "db6a26bd",
   "metadata": {},
   "outputs": [
    {
     "data": {
      "text/plain": [
       "13.845627067377228"
      ]
     },
     "execution_count": 20,
     "metadata": {},
     "output_type": "execute_result"
    }
   ],
   "source": [
    "seoul_values.std()"
   ]
  },
  {
   "cell_type": "code",
   "execution_count": 21,
   "id": "e51c9713",
   "metadata": {},
   "outputs": [
    {
     "data": {
      "text/plain": [
       "2260"
      ]
     },
     "execution_count": 21,
     "metadata": {},
     "output_type": "execute_result"
    }
   ],
   "source": [
    "seoul_values.sum()"
   ]
  },
  {
   "cell_type": "code",
   "execution_count": 22,
   "id": "5aa1e91d",
   "metadata": {},
   "outputs": [
    {
     "data": {
      "text/plain": [
       "2260"
      ]
     },
     "execution_count": 22,
     "metadata": {},
     "output_type": "execute_result"
    }
   ],
   "source": [
    "np.sum(seoul_values)"
   ]
  },
  {
   "cell_type": "markdown",
   "id": "1f45fab5",
   "metadata": {},
   "source": [
    "## 2-2-4. 자료저장"
   ]
  },
  {
   "cell_type": "code",
   "execution_count": 23,
   "id": "62530fee",
   "metadata": {},
   "outputs": [],
   "source": [
    "#seoul 변수의 PN10값만 뽑아서 다음과 같이 csv 파일 형식의 아스키파일로 저장해줄 수 있음"
   ]
  },
  {
   "cell_type": "code",
   "execution_count": 24,
   "id": "6b0e295f",
   "metadata": {},
   "outputs": [],
   "source": [
    "np.savetxt('seoul_pm_values.csv', [seoul['conc']],fmt='%.1f', delimiter=',')\n",
    "#소숫점 1번째 자리까지만 자료 저장"
   ]
  },
  {
   "cell_type": "code",
   "execution_count": 25,
   "id": "a7ab7976",
   "metadata": {},
   "outputs": [],
   "source": [
    "#바이너리 형태로 저장\n",
    "\n",
    "f=open('seoul_pm_values.bin','wb') # w : write, b : binary\n",
    "seoul['conc'].tofile(f)\n",
    "f.close()\n",
    "\n",
    "#cmd 창에서 생성되었음 확인할 수 있음. "
   ]
  },
  {
   "cell_type": "markdown",
   "id": "f690c869",
   "metadata": {},
   "source": [
    "## 2-2-5. 자주 사용되는 함수"
   ]
  },
  {
   "cell_type": "code",
   "execution_count": 26,
   "id": "cd274415",
   "metadata": {},
   "outputs": [
    {
     "name": "stdout",
     "output_type": "stream",
     "text": [
      "[0 1 2 3 4 5 6 7 8]\n"
     ]
    }
   ],
   "source": [
    "A = np.arange(9)\n",
    "print(A)"
   ]
  },
  {
   "cell_type": "code",
   "execution_count": 27,
   "id": "4a3b16d2",
   "metadata": {},
   "outputs": [
    {
     "data": {
      "text/plain": [
       "(array([1, 3, 5, 7], dtype=int64),)"
      ]
     },
     "execution_count": 27,
     "metadata": {},
     "output_type": "execute_result"
    }
   ],
   "source": [
    "np.where(A%2==1) #배열 A의 값이 홀수인 인덱스를 알려줌"
   ]
  },
  {
   "cell_type": "code",
   "execution_count": 28,
   "id": "2e3739dd",
   "metadata": {},
   "outputs": [
    {
     "data": {
      "text/plain": [
       "array([0, 1, 0, 3, 0, 5, 0, 7, 0])"
      ]
     },
     "execution_count": 28,
     "metadata": {},
     "output_type": "execute_result"
    }
   ],
   "source": [
    "np.where(A%2==1, A, 0) #배열 A의 값이 홀수이면 본래값, 짝수이면 0으로 변환"
   ]
  },
  {
   "cell_type": "code",
   "execution_count": 29,
   "id": "2dfd1195",
   "metadata": {},
   "outputs": [
    {
     "data": {
      "text/plain": [
       "array([-1, -1, -1, -1,  4,  5,  6, -1, -1])"
      ]
     },
     "execution_count": 29,
     "metadata": {},
     "output_type": "execute_result"
    }
   ],
   "source": [
    "np.where((A>3) & (A<7),A,-1) # 3< <7 사이의 값은 본래값, 이외의 값들은 -1로 변환"
   ]
  },
  {
   "cell_type": "code",
   "execution_count": 30,
   "id": "7e30f763",
   "metadata": {},
   "outputs": [],
   "source": [
    "# np.where()은 격자자료에서 'mask filed'를 만들 때 유용하게 사용될 수 있음. "
   ]
  }
 ],
 "metadata": {
  "kernelspec": {
   "display_name": "Python 3 (ipykernel)",
   "language": "python",
   "name": "python3"
  },
  "language_info": {
   "codemirror_mode": {
    "name": "ipython",
    "version": 3
   },
   "file_extension": ".py",
   "mimetype": "text/x-python",
   "name": "python",
   "nbconvert_exporter": "python",
   "pygments_lexer": "ipython3",
   "version": "3.9.7"
  }
 },
 "nbformat": 4,
 "nbformat_minor": 5
}
