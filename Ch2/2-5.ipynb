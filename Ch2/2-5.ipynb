{
 "cells": [
  {
   "cell_type": "markdown",
   "id": "386fe2d5",
   "metadata": {},
   "source": [
    "# 2-5. Pandas 활용 (Time series anaylsis)"
   ]
  },
  {
   "cell_type": "markdown",
   "id": "c91a5b4e",
   "metadata": {},
   "source": [
    "## 2-5-1. 자료 불러오기"
   ]
  },
  {
   "cell_type": "code",
   "execution_count": 1,
   "id": "5886ed18",
   "metadata": {},
   "outputs": [],
   "source": [
    "import pandas as pd\n",
    "import numpy as np\n",
    "import matplotlib.pyplot as plt\n",
    "#pd.set_option('max_rows',10) #자료 출력시 최대 10줄만 표시"
   ]
  },
  {
   "cell_type": "code",
   "execution_count": 2,
   "id": "87812068",
   "metadata": {},
   "outputs": [
    {
     "data": {
      "text/plain": [
       "'1.3.4'"
      ]
     },
     "execution_count": 2,
     "metadata": {},
     "output_type": "execute_result"
    }
   ],
   "source": [
    "pd.__version__"
   ]
  },
  {
   "cell_type": "code",
   "execution_count": 3,
   "id": "dde45d15",
   "metadata": {},
   "outputs": [],
   "source": [
    "raw_file = 'KMA_seoul_raw_data2.csv'\n",
    "seoul = np.genfromtxt(raw_file,encoding='euc-kr', dtype=None, \n",
    "                     delimiter=',',\n",
    "                     names=('loc_num','loc_name','data','conc'),\n",
    "                     comments='#', skip_header=1)"
   ]
  },
  {
   "cell_type": "code",
   "execution_count": 4,
   "id": "2a0090bb",
   "metadata": {},
   "outputs": [],
   "source": [
    "seoul=seoul[8:56]"
   ]
  },
  {
   "cell_type": "code",
   "execution_count": 5,
   "id": "7cd6dfbf",
   "metadata": {},
   "outputs": [
    {
     "data": {
      "text/plain": [
       "array([(108, '서울', '2009-01', 57), (108, '서울', '2009-02', 81),\n",
       "       (108, '서울', '2009-03', 59), (108, '서울', '2009-04', 63),\n",
       "       (108, '서울', '2009-05', 56), (108, '서울', '2009-06', 47),\n",
       "       (108, '서울', '2009-07', 39), (108, '서울', '2009-08', 31),\n",
       "       (108, '서울', '2009-09', 39), (108, '서울', '2009-10', 49),\n",
       "       (108, '서울', '2009-11', 43), (108, '서울', '2009-12', 68),\n",
       "       (108, '서울', '2010-01', 56), (108, '서울', '2010-02', 47),\n",
       "       (108, '서울', '2010-03', 60), (108, '서울', '2010-04', 46),\n",
       "       (108, '서울', '2010-05', 55), (108, '서울', '2010-06', 48),\n",
       "       (108, '서울', '2010-07', 30), (108, '서울', '2010-08', 33),\n",
       "       (108, '서울', '2010-09', 27), (108, '서울', '2010-10', 38),\n",
       "       (108, '서울', '2010-11', 69), (108, '서울', '2010-12', 64),\n",
       "       (108, '서울', '2011-01', 44), (108, '서울', '2011-02', 74),\n",
       "       (108, '서울', '2011-03', 67), (108, '서울', '2011-04', 56),\n",
       "       (108, '서울', '2011-05', 76), (108, '서울', '2011-06', 48),\n",
       "       (108, '서울', '2011-07', 35), (108, '서울', '2011-08', 33),\n",
       "       (108, '서울', '2011-09', 32), (108, '서울', '2011-10', 39),\n",
       "       (108, '서울', '2011-11', 36), (108, '서울', '2011-12', 41),\n",
       "       (108, '서울', '2012-01', 55), (108, '서울', '2012-02', 47),\n",
       "       (108, '서울', '2012-03', 43), (108, '서울', '2012-04', 49),\n",
       "       (108, '서울', '2012-05', 48), (108, '서울', '2012-06', 37),\n",
       "       (108, '서울', '2012-07', 27), (108, '서울', '2012-08', 24),\n",
       "       (108, '서울', '2012-09', 28), (108, '서울', '2012-10', 34),\n",
       "       (108, '서울', '2012-11', 42), (108, '서울', '2012-12', 40)],\n",
       "      dtype=[('loc_num', '<i4'), ('loc_name', '<U2'), ('data', '<U7'), ('conc', '<i4')])"
      ]
     },
     "execution_count": 5,
     "metadata": {},
     "output_type": "execute_result"
    }
   ],
   "source": [
    "seoul"
   ]
  },
  {
   "cell_type": "code",
   "execution_count": 6,
   "id": "ab85200c",
   "metadata": {},
   "outputs": [
    {
     "data": {
      "text/plain": [
       "(48,)"
      ]
     },
     "execution_count": 6,
     "metadata": {},
     "output_type": "execute_result"
    }
   ],
   "source": [
    "seoul.shape"
   ]
  },
  {
   "cell_type": "code",
   "execution_count": 7,
   "id": "fc2c1985",
   "metadata": {},
   "outputs": [
    {
     "data": {
      "text/plain": [
       "[<matplotlib.lines.Line2D at 0x1c3ce56ae50>]"
      ]
     },
     "execution_count": 7,
     "metadata": {},
     "output_type": "execute_result"
    },
    {
     "data": {
      "image/png": "[encoded data removed]",
      "text/plain": [
       "<Figure size 432x288 with 1 Axes>"
      ]
     },
     "metadata": {
      "needs_background": "light"
     },
     "output_type": "display_data"
    }
   ],
   "source": [
    "plt.plot(seoul['conc'])"
   ]
  },
  {
   "cell_type": "markdown",
   "id": "1cd992dc",
   "metadata": {},
   "source": [
    "## 2-5-2. 시계열 그리기"
   ]
  },
  {
   "cell_type": "code",
   "execution_count": 8,
   "id": "5ce0bf56",
   "metadata": {},
   "outputs": [
    {
     "data": {
      "text/plain": [
       "DatetimeIndex(['2009-01-31', '2009-02-28', '2009-03-31', '2009-04-30',\n",
       "               '2009-05-31', '2009-06-30', '2009-07-31', '2009-08-31',\n",
       "               '2009-09-30', '2009-10-31', '2009-11-30', '2009-12-31',\n",
       "               '2010-01-31', '2010-02-28', '2010-03-31', '2010-04-30',\n",
       "               '2010-05-31', '2010-06-30', '2010-07-31', '2010-08-31',\n",
       "               '2010-09-30', '2010-10-31', '2010-11-30', '2010-12-31',\n",
       "               '2011-01-31', '2011-02-28', '2011-03-31', '2011-04-30',\n",
       "               '2011-05-31', '2011-06-30', '2011-07-31', '2011-08-31',\n",
       "               '2011-09-30', '2011-10-31', '2011-11-30', '2011-12-31',\n",
       "               '2012-01-31', '2012-02-29', '2012-03-31', '2012-04-30',\n",
       "               '2012-05-31', '2012-06-30', '2012-07-31', '2012-08-31',\n",
       "               '2012-09-30', '2012-10-31', '2012-11-30', '2012-12-31'],\n",
       "              dtype='datetime64[ns]', freq='M')"
      ]
     },
     "execution_count": 8,
     "metadata": {},
     "output_type": "execute_result"
    }
   ],
   "source": [
    "dates=pd.date_range('2009-01','2013-01',freq='M') #2009.01~2012.12까지 날짜 변수 생성; 끝값은 포함xx\n",
    "dates"
   ]
  },
  {
   "cell_type": "code",
   "execution_count": 9,
   "id": "4b481165",
   "metadata": {},
   "outputs": [
    {
     "data": {
      "text/plain": [
       "(48,)"
      ]
     },
     "execution_count": 9,
     "metadata": {},
     "output_type": "execute_result"
    }
   ],
   "source": [
    "dates.shape"
   ]
  },
  {
   "cell_type": "code",
   "execution_count": 10,
   "id": "9e8a90ec",
   "metadata": {},
   "outputs": [],
   "source": [
    "SEOUL=pd.Series(seoul['conc'],index=dates) #time Series 생성"
   ]
  },
  {
   "cell_type": "code",
   "execution_count": 11,
   "id": "2e891626",
   "metadata": {},
   "outputs": [
    {
     "data": {
      "text/plain": [
       "2009-01-31    57\n",
       "2009-02-28    81\n",
       "2009-03-31    59\n",
       "2009-04-30    63\n",
       "2009-05-31    56\n",
       "2009-06-30    47\n",
       "2009-07-31    39\n",
       "2009-08-31    31\n",
       "2009-09-30    39\n",
       "2009-10-31    49\n",
       "2009-11-30    43\n",
       "2009-12-31    68\n",
       "2010-01-31    56\n",
       "2010-02-28    47\n",
       "2010-03-31    60\n",
       "2010-04-30    46\n",
       "2010-05-31    55\n",
       "2010-06-30    48\n",
       "2010-07-31    30\n",
       "2010-08-31    33\n",
       "2010-09-30    27\n",
       "2010-10-31    38\n",
       "2010-11-30    69\n",
       "2010-12-31    64\n",
       "2011-01-31    44\n",
       "2011-02-28    74\n",
       "2011-03-31    67\n",
       "2011-04-30    56\n",
       "2011-05-31    76\n",
       "2011-06-30    48\n",
       "2011-07-31    35\n",
       "2011-08-31    33\n",
       "2011-09-30    32\n",
       "2011-10-31    39\n",
       "2011-11-30    36\n",
       "2011-12-31    41\n",
       "2012-01-31    55\n",
       "2012-02-29    47\n",
       "2012-03-31    43\n",
       "2012-04-30    49\n",
       "2012-05-31    48\n",
       "2012-06-30    37\n",
       "2012-07-31    27\n",
       "2012-08-31    24\n",
       "2012-09-30    28\n",
       "2012-10-31    34\n",
       "2012-11-30    42\n",
       "2012-12-31    40\n",
       "Freq: M, dtype: int32"
      ]
     },
     "execution_count": 11,
     "metadata": {},
     "output_type": "execute_result"
    }
   ],
   "source": [
    "SEOUL"
   ]
  },
  {
   "cell_type": "code",
   "execution_count": 12,
   "id": "597d63dc",
   "metadata": {},
   "outputs": [
    {
     "data": {
      "image/png": "[encoded data removed]",
      "text/plain": [
       "<Figure size 432x288 with 1 Axes>"
      ]
     },
     "metadata": {
      "needs_background": "light"
     },
     "output_type": "display_data"
    }
   ],
   "source": [
    "SEOUL.plot() #또는 plt.plot(SEOUL)\n",
    "plt.show()"
   ]
  },
  {
   "cell_type": "code",
   "execution_count": 13,
   "id": "3cb88a1e",
   "metadata": {},
   "outputs": [
    {
     "data": {
      "image/png": "[encoded data removed]",
      "text/plain": [
       "<Figure size 432x288 with 1 Axes>"
      ]
     },
     "metadata": {
      "needs_background": "light"
     },
     "output_type": "display_data"
    }
   ],
   "source": [
    "#일부기간만 그리기\n",
    "SEOUL['2010':'2011'].plot()\n",
    "plt.show()"
   ]
  },
  {
   "cell_type": "code",
   "execution_count": 14,
   "id": "06ec923d",
   "metadata": {},
   "outputs": [
    {
     "data": {
      "text/plain": [
       "[<matplotlib.lines.Line2D at 0x1c3ce84e9a0>]"
      ]
     },
     "execution_count": 14,
     "metadata": {},
     "output_type": "execute_result"
    },
    {
     "data": {
      "image/png": "[encoded data removed]",
      "text/plain": [
       "<Figure size 432x288 with 1 Axes>"
      ]
     },
     "metadata": {
      "needs_background": "light"
     },
     "output_type": "display_data"
    }
   ],
   "source": [
    "plt.plot(SEOUL['2010':'2011'])"
   ]
  },
  {
   "cell_type": "code",
   "execution_count": 15,
   "id": "9ab686d7",
   "metadata": {},
   "outputs": [
    {
     "data": {
      "image/png": "[encoded data removed]",
      "text/plain": [
       "<Figure size 432x288 with 1 Axes>"
      ]
     },
     "metadata": {
      "needs_background": "light"
     },
     "output_type": "display_data"
    }
   ],
   "source": [
    "SEOUL['2011-11':'2012-04'].plot()\n",
    "plt.show()"
   ]
  },
  {
   "cell_type": "markdown",
   "id": "03ff7460",
   "metadata": {},
   "source": [
    "### 2-5-2-1. 시계열 자료의 인덱싱과 슬라이싱"
   ]
  },
  {
   "cell_type": "code",
   "execution_count": 16,
   "id": "13b4740a",
   "metadata": {},
   "outputs": [
    {
     "data": {
      "text/plain": [
       "27"
      ]
     },
     "execution_count": 16,
     "metadata": {},
     "output_type": "execute_result"
    }
   ],
   "source": [
    "SEOUL[20] #기존의 인덱싱 방법, 20번째 줄의 값 입력"
   ]
  },
  {
   "cell_type": "code",
   "execution_count": 17,
   "id": "a801d065",
   "metadata": {},
   "outputs": [
    {
     "data": {
      "text/plain": [
       "2012-12-31    40\n",
       "Freq: M, dtype: int32"
      ]
     },
     "execution_count": 17,
     "metadata": {},
     "output_type": "execute_result"
    }
   ],
   "source": [
    "SEOUL['2012-12'] #날짜(연-월)를(을) 이용한 인덱싱"
   ]
  },
  {
   "cell_type": "code",
   "execution_count": 18,
   "id": "b8406899",
   "metadata": {},
   "outputs": [
    {
     "data": {
      "text/plain": [
       "2012-01-31    55\n",
       "2012-02-29    47\n",
       "2012-03-31    43\n",
       "2012-04-30    49\n",
       "2012-05-31    48\n",
       "2012-06-30    37\n",
       "2012-07-31    27\n",
       "2012-08-31    24\n",
       "2012-09-30    28\n",
       "2012-10-31    34\n",
       "2012-11-30    42\n",
       "2012-12-31    40\n",
       "Freq: M, dtype: int32"
      ]
     },
     "execution_count": 18,
     "metadata": {},
     "output_type": "execute_result"
    }
   ],
   "source": [
    "SEOUL['2012'] #특정 한 해의 자료만 뽑기"
   ]
  },
  {
   "cell_type": "code",
   "execution_count": 19,
   "id": "341db873",
   "metadata": {},
   "outputs": [
    {
     "data": {
      "text/plain": [
       "2009-01-31    57\n",
       "2009-02-28    81\n",
       "2009-03-31    59\n",
       "2009-04-30    63\n",
       "2009-05-31    56\n",
       "2009-06-30    47\n",
       "2009-10-31    49\n",
       "2009-11-30    43\n",
       "2009-12-31    68\n",
       "2010-01-31    56\n",
       "2010-02-28    47\n",
       "2010-03-31    60\n",
       "2010-04-30    46\n",
       "2010-05-31    55\n",
       "2010-06-30    48\n",
       "2010-11-30    69\n",
       "2010-12-31    64\n",
       "2011-01-31    44\n",
       "2011-02-28    74\n",
       "2011-03-31    67\n",
       "2011-04-30    56\n",
       "2011-05-31    76\n",
       "2011-06-30    48\n",
       "2011-12-31    41\n",
       "2012-01-31    55\n",
       "2012-02-29    47\n",
       "2012-03-31    43\n",
       "2012-04-30    49\n",
       "2012-05-31    48\n",
       "2012-11-30    42\n",
       "dtype: int32"
      ]
     },
     "execution_count": 19,
     "metadata": {},
     "output_type": "execute_result"
    }
   ],
   "source": [
    "SEOUL[SEOUL>40] #PM10 농도가 40ug/m3 보다 큰 경우만 출력"
   ]
  },
  {
   "cell_type": "markdown",
   "id": "447dd555",
   "metadata": {},
   "source": [
    "## 2-5-3. DataFrame 활용 (다중 자료 처리)"
   ]
  },
  {
   "cell_type": "code",
   "execution_count": 20,
   "id": "660566ed",
   "metadata": {},
   "outputs": [],
   "source": [
    "raw_file = 'KMA_baeng_raw_data.csv'\n",
    "baeng = np.genfromtxt(raw_file,encoding='euc-kr',dtype=None,\n",
    "                      delimiter=',',\n",
    "                      names=('loc_num','loc_name','date','conc'),\n",
    "                      comments='#',skip_header=1)"
   ]
  },
  {
   "cell_type": "code",
   "execution_count": 21,
   "id": "219c0e0d",
   "metadata": {},
   "outputs": [
    {
     "data": {
      "text/plain": [
       "array([(102, '백령도', '2009-01', 40), (102, '백령도', '2009-02', 74),\n",
       "       (102, '백령도', '2009-03', 73), (102, '백령도', '2009-04', 57),\n",
       "       (102, '백령도', '2009-05', 59), (102, '백령도', '2009-06', 38),\n",
       "       (102, '백령도', '2009-07', 36), (102, '백령도', '2009-08', 41),\n",
       "       (102, '백령도', '2009-09', 55), (102, '백령도', '2009-10', 44),\n",
       "       (102, '백령도', '2009-11', 48), (102, '백령도', '2009-12', 54),\n",
       "       (102, '백령도', '2010-01', 41), (102, '백령도', '2010-02', 35),\n",
       "       (102, '백령도', '2010-03', 57), (102, '백령도', '2010-04', 45),\n",
       "       (102, '백령도', '2010-05', 44), (102, '백령도', '2010-06', 29),\n",
       "       (102, '백령도', '2010-07', 23), (102, '백령도', '2010-08', 23),\n",
       "       (102, '백령도', '2010-09', 26), (102, '백령도', '2010-10', 28),\n",
       "       (102, '백령도', '2010-11', 65), (102, '백령도', '2010-12', 58),\n",
       "       (102, '백령도', '2011-01', 33), (102, '백령도', '2011-02', 54),\n",
       "       (102, '백령도', '2011-03', 62), (102, '백령도', '2011-04', 51),\n",
       "       (102, '백령도', '2011-05', 85), (102, '백령도', '2011-06', 25),\n",
       "       (102, '백령도', '2011-07', 19), (102, '백령도', '2011-08', 22),\n",
       "       (102, '백령도', '2011-09', 33), (102, '백령도', '2011-10', 46),\n",
       "       (102, '백령도', '2011-11', 48), (102, '백령도', '2011-12', 36),\n",
       "       (102, '백령도', '2012-01', 53), (102, '백령도', '2012-02', 45),\n",
       "       (102, '백령도', '2012-03', 50), (102, '백령도', '2012-04', 45),\n",
       "       (102, '백령도', '2012-05', 51), (102, '백령도', '2012-06', 25),\n",
       "       (102, '백령도', '2012-07', 24), (102, '백령도', '2012-08', 27),\n",
       "       (102, '백령도', '2012-09', 35), (102, '백령도', '2012-10', 30),\n",
       "       (102, '백령도', '2012-11', 36), (102, '백령도', '2012-12', 32)],\n",
       "      dtype=[('loc_num', '<i4'), ('loc_name', '<U3'), ('date', '<U7'), ('conc', '<i4')])"
      ]
     },
     "execution_count": 21,
     "metadata": {},
     "output_type": "execute_result"
    }
   ],
   "source": [
    "baeng[12:60]"
   ]
  },
  {
   "cell_type": "code",
   "execution_count": 22,
   "id": "d34a05f6",
   "metadata": {},
   "outputs": [
    {
     "data": {
      "text/plain": [
       "DatetimeIndex(['2009-01-31', '2009-02-28', '2009-03-31', '2009-04-30',\n",
       "               '2009-05-31', '2009-06-30', '2009-07-31', '2009-08-31',\n",
       "               '2009-09-30', '2009-10-31', '2009-11-30', '2009-12-31',\n",
       "               '2010-01-31', '2010-02-28', '2010-03-31', '2010-04-30',\n",
       "               '2010-05-31', '2010-06-30', '2010-07-31', '2010-08-31',\n",
       "               '2010-09-30', '2010-10-31', '2010-11-30', '2010-12-31',\n",
       "               '2011-01-31', '2011-02-28', '2011-03-31', '2011-04-30',\n",
       "               '2011-05-31', '2011-06-30', '2011-07-31', '2011-08-31',\n",
       "               '2011-09-30', '2011-10-31', '2011-11-30', '2011-12-31',\n",
       "               '2012-01-31', '2012-02-29', '2012-03-31', '2012-04-30',\n",
       "               '2012-05-31', '2012-06-30', '2012-07-31', '2012-08-31',\n",
       "               '2012-09-30', '2012-10-31', '2012-11-30', '2012-12-31'],\n",
       "              dtype='datetime64[ns]', freq='M')"
      ]
     },
     "execution_count": 22,
     "metadata": {},
     "output_type": "execute_result"
    }
   ],
   "source": [
    "baeng=baeng[12:60]\n",
    "dates = pd.date_range('2009-01','2013-01', freq='M')\n",
    "BAENG = pd.Series(baeng['conc'], index=dates)\n",
    "BAENG.index"
   ]
  },
  {
   "cell_type": "code",
   "execution_count": 23,
   "id": "153a5723",
   "metadata": {},
   "outputs": [
    {
     "data": {
      "text/plain": [
       "2009-01-31    40\n",
       "2009-02-28    74\n",
       "2009-03-31    73\n",
       "2009-04-30    57\n",
       "2009-05-31    59\n",
       "2009-06-30    38\n",
       "2009-07-31    36\n",
       "2009-08-31    41\n",
       "2009-09-30    55\n",
       "2009-10-31    44\n",
       "2009-11-30    48\n",
       "2009-12-31    54\n",
       "2010-01-31    41\n",
       "2010-02-28    35\n",
       "2010-03-31    57\n",
       "2010-04-30    45\n",
       "2010-05-31    44\n",
       "2010-06-30    29\n",
       "2010-07-31    23\n",
       "2010-08-31    23\n",
       "2010-09-30    26\n",
       "2010-10-31    28\n",
       "2010-11-30    65\n",
       "2010-12-31    58\n",
       "2011-01-31    33\n",
       "2011-02-28    54\n",
       "2011-03-31    62\n",
       "2011-04-30    51\n",
       "2011-05-31    85\n",
       "2011-06-30    25\n",
       "2011-07-31    19\n",
       "2011-08-31    22\n",
       "2011-09-30    33\n",
       "2011-10-31    46\n",
       "2011-11-30    48\n",
       "2011-12-31    36\n",
       "2012-01-31    53\n",
       "2012-02-29    45\n",
       "2012-03-31    50\n",
       "2012-04-30    45\n",
       "2012-05-31    51\n",
       "2012-06-30    25\n",
       "2012-07-31    24\n",
       "2012-08-31    27\n",
       "2012-09-30    35\n",
       "2012-10-31    30\n",
       "2012-11-30    36\n",
       "2012-12-31    32\n",
       "Freq: M, dtype: int32"
      ]
     },
     "execution_count": 23,
     "metadata": {},
     "output_type": "execute_result"
    }
   ],
   "source": [
    "BAENG"
   ]
  },
  {
   "cell_type": "code",
   "execution_count": 24,
   "id": "28c7425d",
   "metadata": {},
   "outputs": [],
   "source": [
    "#SEOUL과 BAENG 합치기\n",
    "PM10 = pd.DataFrame({'SEOUL':SEOUL,'BAENG':BAENG}) #딕셔너리형 DataFrame 생성"
   ]
  },
  {
   "cell_type": "code",
   "execution_count": 25,
   "id": "d0c5bc2d",
   "metadata": {},
   "outputs": [
    {
     "data": {
      "text/html": [
       "<div>\n",
       "<style scoped>\n",
       "    .dataframe tbody tr th:only-of-type {\n",
       "        vertical-align: middle;\n",
       "    }\n",
       "\n",
       "    .dataframe tbody tr th {\n",
       "        vertical-align: top;\n",
       "    }\n",
       "\n",
       "    .dataframe thead th {\n",
       "        text-align: right;\n",
       "    }\n",
       "</style>\n",
       "<table border=\"1\" class=\"dataframe\">\n",
       "  <thead>\n",
       "    <tr style=\"text-align: right;\">\n",
       "      <th></th>\n",
       "      <th>SEOUL</th>\n",
       "      <th>BAENG</th>\n",
       "    </tr>\n",
       "  </thead>\n",
       "  <tbody>\n",
       "    <tr>\n",
       "      <th>2009-01-31</th>\n",
       "      <td>57</td>\n",
       "      <td>40</td>\n",
       "    </tr>\n",
       "    <tr>\n",
       "      <th>2009-02-28</th>\n",
       "      <td>81</td>\n",
       "      <td>74</td>\n",
       "    </tr>\n",
       "    <tr>\n",
       "      <th>2009-03-31</th>\n",
       "      <td>59</td>\n",
       "      <td>73</td>\n",
       "    </tr>\n",
       "    <tr>\n",
       "      <th>2009-04-30</th>\n",
       "      <td>63</td>\n",
       "      <td>57</td>\n",
       "    </tr>\n",
       "    <tr>\n",
       "      <th>2009-05-31</th>\n",
       "      <td>56</td>\n",
       "      <td>59</td>\n",
       "    </tr>\n",
       "    <tr>\n",
       "      <th>2009-06-30</th>\n",
       "      <td>47</td>\n",
       "      <td>38</td>\n",
       "    </tr>\n",
       "    <tr>\n",
       "      <th>2009-07-31</th>\n",
       "      <td>39</td>\n",
       "      <td>36</td>\n",
       "    </tr>\n",
       "    <tr>\n",
       "      <th>2009-08-31</th>\n",
       "      <td>31</td>\n",
       "      <td>41</td>\n",
       "    </tr>\n",
       "    <tr>\n",
       "      <th>2009-09-30</th>\n",
       "      <td>39</td>\n",
       "      <td>55</td>\n",
       "    </tr>\n",
       "    <tr>\n",
       "      <th>2009-10-31</th>\n",
       "      <td>49</td>\n",
       "      <td>44</td>\n",
       "    </tr>\n",
       "    <tr>\n",
       "      <th>2009-11-30</th>\n",
       "      <td>43</td>\n",
       "      <td>48</td>\n",
       "    </tr>\n",
       "    <tr>\n",
       "      <th>2009-12-31</th>\n",
       "      <td>68</td>\n",
       "      <td>54</td>\n",
       "    </tr>\n",
       "    <tr>\n",
       "      <th>2010-01-31</th>\n",
       "      <td>56</td>\n",
       "      <td>41</td>\n",
       "    </tr>\n",
       "    <tr>\n",
       "      <th>2010-02-28</th>\n",
       "      <td>47</td>\n",
       "      <td>35</td>\n",
       "    </tr>\n",
       "    <tr>\n",
       "      <th>2010-03-31</th>\n",
       "      <td>60</td>\n",
       "      <td>57</td>\n",
       "    </tr>\n",
       "    <tr>\n",
       "      <th>2010-04-30</th>\n",
       "      <td>46</td>\n",
       "      <td>45</td>\n",
       "    </tr>\n",
       "    <tr>\n",
       "      <th>2010-05-31</th>\n",
       "      <td>55</td>\n",
       "      <td>44</td>\n",
       "    </tr>\n",
       "    <tr>\n",
       "      <th>2010-06-30</th>\n",
       "      <td>48</td>\n",
       "      <td>29</td>\n",
       "    </tr>\n",
       "    <tr>\n",
       "      <th>2010-07-31</th>\n",
       "      <td>30</td>\n",
       "      <td>23</td>\n",
       "    </tr>\n",
       "    <tr>\n",
       "      <th>2010-08-31</th>\n",
       "      <td>33</td>\n",
       "      <td>23</td>\n",
       "    </tr>\n",
       "    <tr>\n",
       "      <th>2010-09-30</th>\n",
       "      <td>27</td>\n",
       "      <td>26</td>\n",
       "    </tr>\n",
       "    <tr>\n",
       "      <th>2010-10-31</th>\n",
       "      <td>38</td>\n",
       "      <td>28</td>\n",
       "    </tr>\n",
       "    <tr>\n",
       "      <th>2010-11-30</th>\n",
       "      <td>69</td>\n",
       "      <td>65</td>\n",
       "    </tr>\n",
       "    <tr>\n",
       "      <th>2010-12-31</th>\n",
       "      <td>64</td>\n",
       "      <td>58</td>\n",
       "    </tr>\n",
       "    <tr>\n",
       "      <th>2011-01-31</th>\n",
       "      <td>44</td>\n",
       "      <td>33</td>\n",
       "    </tr>\n",
       "    <tr>\n",
       "      <th>2011-02-28</th>\n",
       "      <td>74</td>\n",
       "      <td>54</td>\n",
       "    </tr>\n",
       "    <tr>\n",
       "      <th>2011-03-31</th>\n",
       "      <td>67</td>\n",
       "      <td>62</td>\n",
       "    </tr>\n",
       "    <tr>\n",
       "      <th>2011-04-30</th>\n",
       "      <td>56</td>\n",
       "      <td>51</td>\n",
       "    </tr>\n",
       "    <tr>\n",
       "      <th>2011-05-31</th>\n",
       "      <td>76</td>\n",
       "      <td>85</td>\n",
       "    </tr>\n",
       "    <tr>\n",
       "      <th>2011-06-30</th>\n",
       "      <td>48</td>\n",
       "      <td>25</td>\n",
       "    </tr>\n",
       "    <tr>\n",
       "      <th>2011-07-31</th>\n",
       "      <td>35</td>\n",
       "      <td>19</td>\n",
       "    </tr>\n",
       "    <tr>\n",
       "      <th>2011-08-31</th>\n",
       "      <td>33</td>\n",
       "      <td>22</td>\n",
       "    </tr>\n",
       "    <tr>\n",
       "      <th>2011-09-30</th>\n",
       "      <td>32</td>\n",
       "      <td>33</td>\n",
       "    </tr>\n",
       "    <tr>\n",
       "      <th>2011-10-31</th>\n",
       "      <td>39</td>\n",
       "      <td>46</td>\n",
       "    </tr>\n",
       "    <tr>\n",
       "      <th>2011-11-30</th>\n",
       "      <td>36</td>\n",
       "      <td>48</td>\n",
       "    </tr>\n",
       "    <tr>\n",
       "      <th>2011-12-31</th>\n",
       "      <td>41</td>\n",
       "      <td>36</td>\n",
       "    </tr>\n",
       "    <tr>\n",
       "      <th>2012-01-31</th>\n",
       "      <td>55</td>\n",
       "      <td>53</td>\n",
       "    </tr>\n",
       "    <tr>\n",
       "      <th>2012-02-29</th>\n",
       "      <td>47</td>\n",
       "      <td>45</td>\n",
       "    </tr>\n",
       "    <tr>\n",
       "      <th>2012-03-31</th>\n",
       "      <td>43</td>\n",
       "      <td>50</td>\n",
       "    </tr>\n",
       "    <tr>\n",
       "      <th>2012-04-30</th>\n",
       "      <td>49</td>\n",
       "      <td>45</td>\n",
       "    </tr>\n",
       "    <tr>\n",
       "      <th>2012-05-31</th>\n",
       "      <td>48</td>\n",
       "      <td>51</td>\n",
       "    </tr>\n",
       "    <tr>\n",
       "      <th>2012-06-30</th>\n",
       "      <td>37</td>\n",
       "      <td>25</td>\n",
       "    </tr>\n",
       "    <tr>\n",
       "      <th>2012-07-31</th>\n",
       "      <td>27</td>\n",
       "      <td>24</td>\n",
       "    </tr>\n",
       "    <tr>\n",
       "      <th>2012-08-31</th>\n",
       "      <td>24</td>\n",
       "      <td>27</td>\n",
       "    </tr>\n",
       "    <tr>\n",
       "      <th>2012-09-30</th>\n",
       "      <td>28</td>\n",
       "      <td>35</td>\n",
       "    </tr>\n",
       "    <tr>\n",
       "      <th>2012-10-31</th>\n",
       "      <td>34</td>\n",
       "      <td>30</td>\n",
       "    </tr>\n",
       "    <tr>\n",
       "      <th>2012-11-30</th>\n",
       "      <td>42</td>\n",
       "      <td>36</td>\n",
       "    </tr>\n",
       "    <tr>\n",
       "      <th>2012-12-31</th>\n",
       "      <td>40</td>\n",
       "      <td>32</td>\n",
       "    </tr>\n",
       "  </tbody>\n",
       "</table>\n",
       "</div>"
      ],
      "text/plain": [
       "            SEOUL  BAENG\n",
       "2009-01-31     57     40\n",
       "2009-02-28     81     74\n",
       "2009-03-31     59     73\n",
       "2009-04-30     63     57\n",
       "2009-05-31     56     59\n",
       "2009-06-30     47     38\n",
       "2009-07-31     39     36\n",
       "2009-08-31     31     41\n",
       "2009-09-30     39     55\n",
       "2009-10-31     49     44\n",
       "2009-11-30     43     48\n",
       "2009-12-31     68     54\n",
       "2010-01-31     56     41\n",
       "2010-02-28     47     35\n",
       "2010-03-31     60     57\n",
       "2010-04-30     46     45\n",
       "2010-05-31     55     44\n",
       "2010-06-30     48     29\n",
       "2010-07-31     30     23\n",
       "2010-08-31     33     23\n",
       "2010-09-30     27     26\n",
       "2010-10-31     38     28\n",
       "2010-11-30     69     65\n",
       "2010-12-31     64     58\n",
       "2011-01-31     44     33\n",
       "2011-02-28     74     54\n",
       "2011-03-31     67     62\n",
       "2011-04-30     56     51\n",
       "2011-05-31     76     85\n",
       "2011-06-30     48     25\n",
       "2011-07-31     35     19\n",
       "2011-08-31     33     22\n",
       "2011-09-30     32     33\n",
       "2011-10-31     39     46\n",
       "2011-11-30     36     48\n",
       "2011-12-31     41     36\n",
       "2012-01-31     55     53\n",
       "2012-02-29     47     45\n",
       "2012-03-31     43     50\n",
       "2012-04-30     49     45\n",
       "2012-05-31     48     51\n",
       "2012-06-30     37     25\n",
       "2012-07-31     27     24\n",
       "2012-08-31     24     27\n",
       "2012-09-30     28     35\n",
       "2012-10-31     34     30\n",
       "2012-11-30     42     36\n",
       "2012-12-31     40     32"
      ]
     },
     "execution_count": 25,
     "metadata": {},
     "output_type": "execute_result"
    }
   ],
   "source": [
    "PM10"
   ]
  },
  {
   "cell_type": "code",
   "execution_count": 26,
   "id": "81ad28ab",
   "metadata": {},
   "outputs": [
    {
     "data": {
      "image/png": "[encoded data removed]",
      "text/plain": [
       "<Figure size 432x288 with 1 Axes>"
      ]
     },
     "metadata": {
      "needs_background": "light"
     },
     "output_type": "display_data"
    }
   ],
   "source": [
    "PM10.plot()\n",
    "plt.show()"
   ]
  },
  {
   "cell_type": "markdown",
   "id": "c890847e",
   "metadata": {},
   "source": [
    "### 2-5-3-1. DataFrame 자료 처리"
   ]
  },
  {
   "cell_type": "code",
   "execution_count": 27,
   "id": "1ac34a62",
   "metadata": {},
   "outputs": [
    {
     "data": {
      "text/html": [
       "<div>\n",
       "<style scoped>\n",
       "    .dataframe tbody tr th:only-of-type {\n",
       "        vertical-align: middle;\n",
       "    }\n",
       "\n",
       "    .dataframe tbody tr th {\n",
       "        vertical-align: top;\n",
       "    }\n",
       "\n",
       "    .dataframe thead th {\n",
       "        text-align: right;\n",
       "    }\n",
       "</style>\n",
       "<table border=\"1\" class=\"dataframe\">\n",
       "  <thead>\n",
       "    <tr style=\"text-align: right;\">\n",
       "      <th></th>\n",
       "      <th>SEOUL</th>\n",
       "      <th>BAENG</th>\n",
       "    </tr>\n",
       "  </thead>\n",
       "  <tbody>\n",
       "    <tr>\n",
       "      <th>2009-01-31</th>\n",
       "      <td>57</td>\n",
       "      <td>40</td>\n",
       "    </tr>\n",
       "    <tr>\n",
       "      <th>2009-02-28</th>\n",
       "      <td>81</td>\n",
       "      <td>74</td>\n",
       "    </tr>\n",
       "    <tr>\n",
       "      <th>2009-03-31</th>\n",
       "      <td>59</td>\n",
       "      <td>73</td>\n",
       "    </tr>\n",
       "    <tr>\n",
       "      <th>2009-04-30</th>\n",
       "      <td>63</td>\n",
       "      <td>57</td>\n",
       "    </tr>\n",
       "    <tr>\n",
       "      <th>2009-05-31</th>\n",
       "      <td>56</td>\n",
       "      <td>59</td>\n",
       "    </tr>\n",
       "  </tbody>\n",
       "</table>\n",
       "</div>"
      ],
      "text/plain": [
       "            SEOUL  BAENG\n",
       "2009-01-31     57     40\n",
       "2009-02-28     81     74\n",
       "2009-03-31     59     73\n",
       "2009-04-30     63     57\n",
       "2009-05-31     56     59"
      ]
     },
     "execution_count": 27,
     "metadata": {},
     "output_type": "execute_result"
    }
   ],
   "source": [
    "PM10.head()"
   ]
  },
  {
   "cell_type": "code",
   "execution_count": 28,
   "id": "69d5bf4f",
   "metadata": {},
   "outputs": [
    {
     "data": {
      "text/plain": [
       "2009-01-31    57\n",
       "2009-02-28    81\n",
       "2009-03-31    59\n",
       "2009-04-30    63\n",
       "2009-05-31    56\n",
       "2009-06-30    47\n",
       "2009-07-31    39\n",
       "2009-08-31    31\n",
       "2009-09-30    39\n",
       "2009-10-31    49\n",
       "2009-11-30    43\n",
       "2009-12-31    68\n",
       "2010-01-31    56\n",
       "2010-02-28    47\n",
       "2010-03-31    60\n",
       "2010-04-30    46\n",
       "2010-05-31    55\n",
       "2010-06-30    48\n",
       "2010-07-31    30\n",
       "2010-08-31    33\n",
       "2010-09-30    27\n",
       "2010-10-31    38\n",
       "2010-11-30    69\n",
       "2010-12-31    64\n",
       "2011-01-31    44\n",
       "2011-02-28    74\n",
       "2011-03-31    67\n",
       "2011-04-30    56\n",
       "2011-05-31    76\n",
       "2011-06-30    48\n",
       "2011-07-31    35\n",
       "2011-08-31    33\n",
       "2011-09-30    32\n",
       "2011-10-31    39\n",
       "2011-11-30    36\n",
       "2011-12-31    41\n",
       "2012-01-31    55\n",
       "2012-02-29    47\n",
       "2012-03-31    43\n",
       "2012-04-30    49\n",
       "2012-05-31    48\n",
       "2012-06-30    37\n",
       "2012-07-31    27\n",
       "2012-08-31    24\n",
       "2012-09-30    28\n",
       "2012-10-31    34\n",
       "2012-11-30    42\n",
       "2012-12-31    40\n",
       "Freq: M, Name: SEOUL, dtype: int32"
      ]
     },
     "execution_count": 28,
     "metadata": {},
     "output_type": "execute_result"
    }
   ],
   "source": [
    "PM10['SEOUL'] #PM10.SEOUL 같은 결과 \n",
    "#PM10 이라는 딕셔너리에서 SEOUL 이라느 Key 호출"
   ]
  },
  {
   "cell_type": "code",
   "execution_count": 29,
   "id": "1fd3f2b4",
   "metadata": {},
   "outputs": [
    {
     "data": {
      "text/html": [
       "<div>\n",
       "<style scoped>\n",
       "    .dataframe tbody tr th:only-of-type {\n",
       "        vertical-align: middle;\n",
       "    }\n",
       "\n",
       "    .dataframe tbody tr th {\n",
       "        vertical-align: top;\n",
       "    }\n",
       "\n",
       "    .dataframe thead th {\n",
       "        text-align: right;\n",
       "    }\n",
       "</style>\n",
       "<table border=\"1\" class=\"dataframe\">\n",
       "  <thead>\n",
       "    <tr style=\"text-align: right;\">\n",
       "      <th></th>\n",
       "      <th>SEOUL</th>\n",
       "      <th>BAENG</th>\n",
       "      <th>DIFF</th>\n",
       "    </tr>\n",
       "  </thead>\n",
       "  <tbody>\n",
       "    <tr>\n",
       "      <th>2009-01-31</th>\n",
       "      <td>57</td>\n",
       "      <td>40</td>\n",
       "      <td>17</td>\n",
       "    </tr>\n",
       "    <tr>\n",
       "      <th>2009-02-28</th>\n",
       "      <td>81</td>\n",
       "      <td>74</td>\n",
       "      <td>7</td>\n",
       "    </tr>\n",
       "    <tr>\n",
       "      <th>2009-03-31</th>\n",
       "      <td>59</td>\n",
       "      <td>73</td>\n",
       "      <td>-14</td>\n",
       "    </tr>\n",
       "    <tr>\n",
       "      <th>2009-04-30</th>\n",
       "      <td>63</td>\n",
       "      <td>57</td>\n",
       "      <td>6</td>\n",
       "    </tr>\n",
       "    <tr>\n",
       "      <th>2009-05-31</th>\n",
       "      <td>56</td>\n",
       "      <td>59</td>\n",
       "      <td>-3</td>\n",
       "    </tr>\n",
       "  </tbody>\n",
       "</table>\n",
       "</div>"
      ],
      "text/plain": [
       "            SEOUL  BAENG  DIFF\n",
       "2009-01-31     57     40    17\n",
       "2009-02-28     81     74     7\n",
       "2009-03-31     59     73   -14\n",
       "2009-04-30     63     57     6\n",
       "2009-05-31     56     59    -3"
      ]
     },
     "execution_count": 29,
     "metadata": {},
     "output_type": "execute_result"
    }
   ],
   "source": [
    "#간단한 사칙연산의 결과를 column으로 출력하기\n",
    "PM10['DIFF']=PM10['SEOUL']-PM10['BAENG']\n",
    "PM10.head()"
   ]
  },
  {
   "cell_type": "code",
   "execution_count": 30,
   "id": "098a81a7",
   "metadata": {},
   "outputs": [
    {
     "data": {
      "text/html": [
       "<div>\n",
       "<style scoped>\n",
       "    .dataframe tbody tr th:only-of-type {\n",
       "        vertical-align: middle;\n",
       "    }\n",
       "\n",
       "    .dataframe tbody tr th {\n",
       "        vertical-align: top;\n",
       "    }\n",
       "\n",
       "    .dataframe thead th {\n",
       "        text-align: right;\n",
       "    }\n",
       "</style>\n",
       "<table border=\"1\" class=\"dataframe\">\n",
       "  <thead>\n",
       "    <tr style=\"text-align: right;\">\n",
       "      <th></th>\n",
       "      <th>SEOUL</th>\n",
       "      <th>BAENG</th>\n",
       "    </tr>\n",
       "  </thead>\n",
       "  <tbody>\n",
       "    <tr>\n",
       "      <th>2012-08-31</th>\n",
       "      <td>24</td>\n",
       "      <td>27</td>\n",
       "    </tr>\n",
       "    <tr>\n",
       "      <th>2012-09-30</th>\n",
       "      <td>28</td>\n",
       "      <td>35</td>\n",
       "    </tr>\n",
       "    <tr>\n",
       "      <th>2012-10-31</th>\n",
       "      <td>34</td>\n",
       "      <td>30</td>\n",
       "    </tr>\n",
       "    <tr>\n",
       "      <th>2012-11-30</th>\n",
       "      <td>42</td>\n",
       "      <td>36</td>\n",
       "    </tr>\n",
       "    <tr>\n",
       "      <th>2012-12-31</th>\n",
       "      <td>40</td>\n",
       "      <td>32</td>\n",
       "    </tr>\n",
       "  </tbody>\n",
       "</table>\n",
       "</div>"
      ],
      "text/plain": [
       "            SEOUL  BAENG\n",
       "2012-08-31     24     27\n",
       "2012-09-30     28     35\n",
       "2012-10-31     34     30\n",
       "2012-11-30     42     36\n",
       "2012-12-31     40     32"
      ]
     },
     "execution_count": 30,
     "metadata": {},
     "output_type": "execute_result"
    }
   ],
   "source": [
    "#삭제하기\n",
    "del PM10['DIFF']\n",
    "PM10.tail()"
   ]
  },
  {
   "cell_type": "code",
   "execution_count": 31,
   "id": "734eaa01",
   "metadata": {
    "scrolled": true
   },
   "outputs": [
    {
     "data": {
      "text/html": [
       "<div>\n",
       "<style scoped>\n",
       "    .dataframe tbody tr th:only-of-type {\n",
       "        vertical-align: middle;\n",
       "    }\n",
       "\n",
       "    .dataframe tbody tr th {\n",
       "        vertical-align: top;\n",
       "    }\n",
       "\n",
       "    .dataframe thead th {\n",
       "        text-align: right;\n",
       "    }\n",
       "</style>\n",
       "<table border=\"1\" class=\"dataframe\">\n",
       "  <thead>\n",
       "    <tr style=\"text-align: right;\">\n",
       "      <th></th>\n",
       "      <th>SEOUL</th>\n",
       "      <th>BAENG</th>\n",
       "    </tr>\n",
       "  </thead>\n",
       "  <tbody>\n",
       "    <tr>\n",
       "      <th>2011-11-30</th>\n",
       "      <td>36</td>\n",
       "      <td>48</td>\n",
       "    </tr>\n",
       "    <tr>\n",
       "      <th>2011-12-31</th>\n",
       "      <td>41</td>\n",
       "      <td>36</td>\n",
       "    </tr>\n",
       "    <tr>\n",
       "      <th>2012-01-31</th>\n",
       "      <td>55</td>\n",
       "      <td>53</td>\n",
       "    </tr>\n",
       "    <tr>\n",
       "      <th>2012-02-29</th>\n",
       "      <td>47</td>\n",
       "      <td>45</td>\n",
       "    </tr>\n",
       "    <tr>\n",
       "      <th>2012-03-31</th>\n",
       "      <td>43</td>\n",
       "      <td>50</td>\n",
       "    </tr>\n",
       "    <tr>\n",
       "      <th>2012-04-30</th>\n",
       "      <td>49</td>\n",
       "      <td>45</td>\n",
       "    </tr>\n",
       "  </tbody>\n",
       "</table>\n",
       "</div>"
      ],
      "text/plain": [
       "            SEOUL  BAENG\n",
       "2011-11-30     36     48\n",
       "2011-12-31     41     36\n",
       "2012-01-31     55     53\n",
       "2012-02-29     47     45\n",
       "2012-03-31     43     50\n",
       "2012-04-30     49     45"
      ]
     },
     "execution_count": 31,
     "metadata": {},
     "output_type": "execute_result"
    }
   ],
   "source": [
    "PM10['2011-11':'2012-04'] #시계열 자료의 슬라이싱"
   ]
  },
  {
   "cell_type": "code",
   "execution_count": 32,
   "id": "af02264c",
   "metadata": {},
   "outputs": [
    {
     "data": {
      "image/png": "[encoded data removed]",
      "text/plain": [
       "<Figure size 432x288 with 1 Axes>"
      ]
     },
     "metadata": {
      "needs_background": "light"
     },
     "output_type": "display_data"
    }
   ],
   "source": [
    "import datetime\n",
    "PM10.loc[(PM10.SEOUL > 40) & (PM10.BAENG > 40)\n",
    "        & (PM10.index > datetime.datetime(2011,1,1)),\n",
    "        'SEOUL'].plot.bar(color='g')\n",
    "\n",
    "#서울의 PM10 과 백령도의 PM10이 모두 40ug/m3을 넘고 2011년 1월1일이 넘는 날의 SEOUL의 PM10을 나타내어라\n",
    "\n",
    "plt.tight_layout() #그림이 그림창을 꽉 채우도록 설정\n",
    "plt.show()"
   ]
  },
  {
   "cell_type": "markdown",
   "id": "7fb1e22e",
   "metadata": {},
   "source": [
    "### 2-5-3-2. 통계 처리"
   ]
  },
  {
   "cell_type": "code",
   "execution_count": 33,
   "id": "959ad8cc",
   "metadata": {},
   "outputs": [
    {
     "data": {
      "text/plain": [
       "SEOUL    47.083333\n",
       "BAENG    42.916667\n",
       "dtype: float64"
      ]
     },
     "execution_count": 33,
     "metadata": {},
     "output_type": "execute_result"
    }
   ],
   "source": [
    "PM10.mean()"
   ]
  },
  {
   "cell_type": "code",
   "execution_count": 34,
   "id": "a75b2b19",
   "metadata": {},
   "outputs": [
    {
     "data": {
      "text/plain": [
       "SEOUL    81\n",
       "BAENG    85\n",
       "dtype: int32"
      ]
     },
     "execution_count": 34,
     "metadata": {},
     "output_type": "execute_result"
    }
   ],
   "source": [
    "PM10.max()"
   ]
  },
  {
   "cell_type": "code",
   "execution_count": 35,
   "id": "bd13ec71",
   "metadata": {},
   "outputs": [
    {
     "data": {
      "text/plain": [
       "SEOUL    24\n",
       "BAENG    19\n",
       "dtype: int32"
      ]
     },
     "execution_count": 35,
     "metadata": {},
     "output_type": "execute_result"
    }
   ],
   "source": [
    "PM10.min()"
   ]
  },
  {
   "cell_type": "code",
   "execution_count": 36,
   "id": "9d724a6b",
   "metadata": {},
   "outputs": [
    {
     "data": {
      "text/plain": [
       "2009-01-31    48.5\n",
       "2009-02-28    77.5\n",
       "2009-03-31    66.0\n",
       "2009-04-30    60.0\n",
       "2009-05-31    57.5\n",
       "2009-06-30    42.5\n",
       "2009-07-31    37.5\n",
       "2009-08-31    36.0\n",
       "2009-09-30    47.0\n",
       "2009-10-31    46.5\n",
       "2009-11-30    45.5\n",
       "2009-12-31    61.0\n",
       "2010-01-31    48.5\n",
       "2010-02-28    41.0\n",
       "2010-03-31    58.5\n",
       "2010-04-30    45.5\n",
       "2010-05-31    49.5\n",
       "2010-06-30    38.5\n",
       "2010-07-31    26.5\n",
       "2010-08-31    28.0\n",
       "2010-09-30    26.5\n",
       "2010-10-31    33.0\n",
       "2010-11-30    67.0\n",
       "2010-12-31    61.0\n",
       "2011-01-31    38.5\n",
       "2011-02-28    64.0\n",
       "2011-03-31    64.5\n",
       "2011-04-30    53.5\n",
       "2011-05-31    80.5\n",
       "2011-06-30    36.5\n",
       "2011-07-31    27.0\n",
       "2011-08-31    27.5\n",
       "2011-09-30    32.5\n",
       "2011-10-31    42.5\n",
       "2011-11-30    42.0\n",
       "2011-12-31    38.5\n",
       "2012-01-31    54.0\n",
       "2012-02-29    46.0\n",
       "2012-03-31    46.5\n",
       "2012-04-30    47.0\n",
       "2012-05-31    49.5\n",
       "2012-06-30    31.0\n",
       "2012-07-31    25.5\n",
       "2012-08-31    25.5\n",
       "2012-09-30    31.5\n",
       "2012-10-31    32.0\n",
       "2012-11-30    39.0\n",
       "2012-12-31    36.0\n",
       "Freq: M, dtype: float64"
      ]
     },
     "execution_count": 36,
     "metadata": {},
     "output_type": "execute_result"
    }
   ],
   "source": [
    "PM10.mean(axis=1) #row의 평균값 산출\n",
    "#즉 각 월의 SEOUL과 BAENG 의 PM10 평균값"
   ]
  },
  {
   "cell_type": "code",
   "execution_count": 37,
   "id": "9bfd768b",
   "metadata": {},
   "outputs": [
    {
     "data": {
      "text/plain": [
       "SEOUL    47.083333\n",
       "BAENG    42.916667\n",
       "dtype: float64"
      ]
     },
     "execution_count": 37,
     "metadata": {},
     "output_type": "execute_result"
    }
   ],
   "source": [
    "PM10.mean(axis=0) #default 값"
   ]
  },
  {
   "cell_type": "code",
   "execution_count": 38,
   "id": "7d79b31e",
   "metadata": {},
   "outputs": [
    {
     "data": {
      "text/html": [
       "<div>\n",
       "<style scoped>\n",
       "    .dataframe tbody tr th:only-of-type {\n",
       "        vertical-align: middle;\n",
       "    }\n",
       "\n",
       "    .dataframe tbody tr th {\n",
       "        vertical-align: top;\n",
       "    }\n",
       "\n",
       "    .dataframe thead th {\n",
       "        text-align: right;\n",
       "    }\n",
       "</style>\n",
       "<table border=\"1\" class=\"dataframe\">\n",
       "  <thead>\n",
       "    <tr style=\"text-align: right;\">\n",
       "      <th></th>\n",
       "      <th>SEOUL</th>\n",
       "      <th>BAENG</th>\n",
       "    </tr>\n",
       "  </thead>\n",
       "  <tbody>\n",
       "    <tr>\n",
       "      <th>count</th>\n",
       "      <td>48.000000</td>\n",
       "      <td>48.000000</td>\n",
       "    </tr>\n",
       "    <tr>\n",
       "      <th>mean</th>\n",
       "      <td>47.083333</td>\n",
       "      <td>42.916667</td>\n",
       "    </tr>\n",
       "    <tr>\n",
       "      <th>std</th>\n",
       "      <td>13.992146</td>\n",
       "      <td>15.072637</td>\n",
       "    </tr>\n",
       "    <tr>\n",
       "      <th>min</th>\n",
       "      <td>24.000000</td>\n",
       "      <td>19.000000</td>\n",
       "    </tr>\n",
       "    <tr>\n",
       "      <th>25%</th>\n",
       "      <td>36.750000</td>\n",
       "      <td>31.500000</td>\n",
       "    </tr>\n",
       "    <tr>\n",
       "      <th>50%</th>\n",
       "      <td>46.500000</td>\n",
       "      <td>42.500000</td>\n",
       "    </tr>\n",
       "    <tr>\n",
       "      <th>75%</th>\n",
       "      <td>56.000000</td>\n",
       "      <td>53.250000</td>\n",
       "    </tr>\n",
       "    <tr>\n",
       "      <th>max</th>\n",
       "      <td>81.000000</td>\n",
       "      <td>85.000000</td>\n",
       "    </tr>\n",
       "  </tbody>\n",
       "</table>\n",
       "</div>"
      ],
      "text/plain": [
       "           SEOUL      BAENG\n",
       "count  48.000000  48.000000\n",
       "mean   47.083333  42.916667\n",
       "std    13.992146  15.072637\n",
       "min    24.000000  19.000000\n",
       "25%    36.750000  31.500000\n",
       "50%    46.500000  42.500000\n",
       "75%    56.000000  53.250000\n",
       "max    81.000000  85.000000"
      ]
     },
     "execution_count": 38,
     "metadata": {},
     "output_type": "execute_result"
    }
   ],
   "source": [
    "PM10.describe() #전반적인 통계값 산출"
   ]
  },
  {
   "cell_type": "code",
   "execution_count": 39,
   "id": "d3d9d58d",
   "metadata": {},
   "outputs": [
    {
     "data": {
      "text/html": [
       "<div>\n",
       "<style scoped>\n",
       "    .dataframe tbody tr th:only-of-type {\n",
       "        vertical-align: middle;\n",
       "    }\n",
       "\n",
       "    .dataframe tbody tr th {\n",
       "        vertical-align: top;\n",
       "    }\n",
       "\n",
       "    .dataframe thead th {\n",
       "        text-align: right;\n",
       "    }\n",
       "</style>\n",
       "<table border=\"1\" class=\"dataframe\">\n",
       "  <thead>\n",
       "    <tr style=\"text-align: right;\">\n",
       "      <th></th>\n",
       "      <th>SEOUL</th>\n",
       "      <th>BAENG</th>\n",
       "    </tr>\n",
       "  </thead>\n",
       "  <tbody>\n",
       "    <tr>\n",
       "      <th>SEOUL</th>\n",
       "      <td>1.000000</td>\n",
       "      <td>0.811758</td>\n",
       "    </tr>\n",
       "    <tr>\n",
       "      <th>BAENG</th>\n",
       "      <td>0.811758</td>\n",
       "      <td>1.000000</td>\n",
       "    </tr>\n",
       "  </tbody>\n",
       "</table>\n",
       "</div>"
      ],
      "text/plain": [
       "          SEOUL     BAENG\n",
       "SEOUL  1.000000  0.811758\n",
       "BAENG  0.811758  1.000000"
      ]
     },
     "execution_count": 39,
     "metadata": {},
     "output_type": "execute_result"
    }
   ],
   "source": [
    "#DataFrame 멤버간의 상관계수 (correlation coefficient) 도 확인 가능\n",
    "PM10.corr()"
   ]
  },
  {
   "cell_type": "markdown",
   "id": "adfdc11a",
   "metadata": {},
   "source": [
    "## 2-5-4. Resampling"
   ]
  },
  {
   "cell_type": "code",
   "execution_count": 40,
   "id": "97283562",
   "metadata": {},
   "outputs": [],
   "source": [
    "PM10_annual=PM10.resample(\"A\").mean()#PM10 시계열 자료에서 연평균 취해서 리샘플 값을 PM10_annual에 저장\n"
   ]
  },
  {
   "cell_type": "code",
   "execution_count": 41,
   "id": "ebf56466",
   "metadata": {},
   "outputs": [
    {
     "data": {
      "text/html": [
       "<div>\n",
       "<style scoped>\n",
       "    .dataframe tbody tr th:only-of-type {\n",
       "        vertical-align: middle;\n",
       "    }\n",
       "\n",
       "    .dataframe tbody tr th {\n",
       "        vertical-align: top;\n",
       "    }\n",
       "\n",
       "    .dataframe thead th {\n",
       "        text-align: right;\n",
       "    }\n",
       "</style>\n",
       "<table border=\"1\" class=\"dataframe\">\n",
       "  <thead>\n",
       "    <tr style=\"text-align: right;\">\n",
       "      <th></th>\n",
       "      <th>SEOUL</th>\n",
       "      <th>BAENG</th>\n",
       "    </tr>\n",
       "  </thead>\n",
       "  <tbody>\n",
       "    <tr>\n",
       "      <th>2009-12-31</th>\n",
       "      <td>52.666667</td>\n",
       "      <td>51.583333</td>\n",
       "    </tr>\n",
       "    <tr>\n",
       "      <th>2010-12-31</th>\n",
       "      <td>47.750000</td>\n",
       "      <td>39.500000</td>\n",
       "    </tr>\n",
       "    <tr>\n",
       "      <th>2011-12-31</th>\n",
       "      <td>48.416667</td>\n",
       "      <td>42.833333</td>\n",
       "    </tr>\n",
       "    <tr>\n",
       "      <th>2012-12-31</th>\n",
       "      <td>39.500000</td>\n",
       "      <td>37.750000</td>\n",
       "    </tr>\n",
       "  </tbody>\n",
       "</table>\n",
       "</div>"
      ],
      "text/plain": [
       "                SEOUL      BAENG\n",
       "2009-12-31  52.666667  51.583333\n",
       "2010-12-31  47.750000  39.500000\n",
       "2011-12-31  48.416667  42.833333\n",
       "2012-12-31  39.500000  37.750000"
      ]
     },
     "execution_count": 41,
     "metadata": {},
     "output_type": "execute_result"
    }
   ],
   "source": [
    "PM10_annual"
   ]
  },
  {
   "cell_type": "code",
   "execution_count": 42,
   "id": "463c2d98",
   "metadata": {},
   "outputs": [
    {
     "data": {
      "text/plain": [
       "[<matplotlib.lines.Line2D at 0x1c3cfa08790>,\n",
       " <matplotlib.lines.Line2D at 0x1c3cf9206a0>]"
      ]
     },
     "execution_count": 42,
     "metadata": {},
     "output_type": "execute_result"
    },
    {
     "data": {
      "image/png": "[encoded data removed]",
      "text/plain": [
       "<Figure size 432x288 with 1 Axes>"
      ]
     },
     "metadata": {
      "needs_background": "light"
     },
     "output_type": "display_data"
    }
   ],
   "source": [
    "plt.plot(PM10_annual)"
   ]
  },
  {
   "cell_type": "code",
   "execution_count": 43,
   "id": "85bde93f",
   "metadata": {},
   "outputs": [
    {
     "data": {
      "text/plain": [
       "<AxesSubplot:>"
      ]
     },
     "execution_count": 43,
     "metadata": {},
     "output_type": "execute_result"
    },
    {
     "data": {
      "image/png": "[encoded data removed]",
      "text/plain": [
       "<Figure size 432x288 with 1 Axes>"
      ]
     },
     "metadata": {
      "needs_background": "light"
     },
     "output_type": "display_data"
    }
   ],
   "source": [
    "PM10_annual.plot()"
   ]
  },
  {
   "cell_type": "code",
   "execution_count": 44,
   "id": "d822425d",
   "metadata": {},
   "outputs": [
    {
     "data": {
      "text/plain": [
       "<AxesSubplot:>"
      ]
     },
     "execution_count": 44,
     "metadata": {},
     "output_type": "execute_result"
    },
    {
     "data": {
      "image/png": "[encoded data removed]",
      "text/plain": [
       "<Figure size 432x288 with 1 Axes>"
      ]
     },
     "metadata": {
      "needs_background": "light"
     },
     "output_type": "display_data"
    }
   ],
   "source": [
    "PM10_median=PM10.resample(\"A\").median() #연간 중간값\n",
    "PM10_median.plot()"
   ]
  },
  {
   "cell_type": "code",
   "execution_count": 45,
   "id": "f3e6874f",
   "metadata": {},
   "outputs": [
    {
     "data": {
      "text/html": [
       "<div>\n",
       "<style scoped>\n",
       "    .dataframe tbody tr th:only-of-type {\n",
       "        vertical-align: middle;\n",
       "    }\n",
       "\n",
       "    .dataframe tbody tr th {\n",
       "        vertical-align: top;\n",
       "    }\n",
       "\n",
       "    .dataframe thead th {\n",
       "        text-align: right;\n",
       "    }\n",
       "</style>\n",
       "<table border=\"1\" class=\"dataframe\">\n",
       "  <thead>\n",
       "    <tr style=\"text-align: right;\">\n",
       "      <th></th>\n",
       "      <th>SEOUL</th>\n",
       "      <th>BAENG</th>\n",
       "    </tr>\n",
       "  </thead>\n",
       "  <tbody>\n",
       "    <tr>\n",
       "      <th>2009-12-31</th>\n",
       "      <td>52.5</td>\n",
       "      <td>51.0</td>\n",
       "    </tr>\n",
       "    <tr>\n",
       "      <th>2010-12-31</th>\n",
       "      <td>47.5</td>\n",
       "      <td>38.0</td>\n",
       "    </tr>\n",
       "    <tr>\n",
       "      <th>2011-12-31</th>\n",
       "      <td>42.5</td>\n",
       "      <td>41.0</td>\n",
       "    </tr>\n",
       "    <tr>\n",
       "      <th>2012-12-31</th>\n",
       "      <td>41.0</td>\n",
       "      <td>35.5</td>\n",
       "    </tr>\n",
       "  </tbody>\n",
       "</table>\n",
       "</div>"
      ],
      "text/plain": [
       "            SEOUL  BAENG\n",
       "2009-12-31   52.5   51.0\n",
       "2010-12-31   47.5   38.0\n",
       "2011-12-31   42.5   41.0\n",
       "2012-12-31   41.0   35.5"
      ]
     },
     "execution_count": 45,
     "metadata": {},
     "output_type": "execute_result"
    }
   ],
   "source": [
    "PM10_median"
   ]
  },
  {
   "cell_type": "code",
   "execution_count": 47,
   "id": "85bb01e2",
   "metadata": {},
   "outputs": [
    {
     "data": {
      "text/plain": [
       "<AxesSubplot:>"
      ]
     },
     "execution_count": 47,
     "metadata": {},
     "output_type": "execute_result"
    },
    {
     "data": {
      "image/png": "[encoded data removed]",
      "text/plain": [
       "<Figure size 432x288 with 1 Axes>"
      ]
     },
     "metadata": {
      "needs_background": "light"
     },
     "output_type": "display_data"
    }
   ],
   "source": [
    "PM10_2m=PM10.resample('2M').mean() #2개월 평균값\n",
    "PM10_2m.plot(marker='s')"
   ]
  },
  {
   "cell_type": "code",
   "execution_count": 48,
   "id": "ce10dcff",
   "metadata": {},
   "outputs": [
    {
     "data": {
      "text/html": [
       "<div>\n",
       "<style scoped>\n",
       "    .dataframe tbody tr th:only-of-type {\n",
       "        vertical-align: middle;\n",
       "    }\n",
       "\n",
       "    .dataframe tbody tr th {\n",
       "        vertical-align: top;\n",
       "    }\n",
       "\n",
       "    .dataframe thead th {\n",
       "        text-align: right;\n",
       "    }\n",
       "</style>\n",
       "<table border=\"1\" class=\"dataframe\">\n",
       "  <thead>\n",
       "    <tr style=\"text-align: right;\">\n",
       "      <th></th>\n",
       "      <th>SEOUL</th>\n",
       "      <th>BAENG</th>\n",
       "    </tr>\n",
       "  </thead>\n",
       "  <tbody>\n",
       "    <tr>\n",
       "      <th>2009-01-31</th>\n",
       "      <td>57.0</td>\n",
       "      <td>40.0</td>\n",
       "    </tr>\n",
       "    <tr>\n",
       "      <th>2009-03-31</th>\n",
       "      <td>70.0</td>\n",
       "      <td>73.5</td>\n",
       "    </tr>\n",
       "    <tr>\n",
       "      <th>2009-05-31</th>\n",
       "      <td>59.5</td>\n",
       "      <td>58.0</td>\n",
       "    </tr>\n",
       "    <tr>\n",
       "      <th>2009-07-31</th>\n",
       "      <td>43.0</td>\n",
       "      <td>37.0</td>\n",
       "    </tr>\n",
       "    <tr>\n",
       "      <th>2009-09-30</th>\n",
       "      <td>35.0</td>\n",
       "      <td>48.0</td>\n",
       "    </tr>\n",
       "    <tr>\n",
       "      <th>2009-11-30</th>\n",
       "      <td>46.0</td>\n",
       "      <td>46.0</td>\n",
       "    </tr>\n",
       "    <tr>\n",
       "      <th>2010-01-31</th>\n",
       "      <td>62.0</td>\n",
       "      <td>47.5</td>\n",
       "    </tr>\n",
       "    <tr>\n",
       "      <th>2010-03-31</th>\n",
       "      <td>53.5</td>\n",
       "      <td>46.0</td>\n",
       "    </tr>\n",
       "    <tr>\n",
       "      <th>2010-05-31</th>\n",
       "      <td>50.5</td>\n",
       "      <td>44.5</td>\n",
       "    </tr>\n",
       "    <tr>\n",
       "      <th>2010-07-31</th>\n",
       "      <td>39.0</td>\n",
       "      <td>26.0</td>\n",
       "    </tr>\n",
       "    <tr>\n",
       "      <th>2010-09-30</th>\n",
       "      <td>30.0</td>\n",
       "      <td>24.5</td>\n",
       "    </tr>\n",
       "    <tr>\n",
       "      <th>2010-11-30</th>\n",
       "      <td>53.5</td>\n",
       "      <td>46.5</td>\n",
       "    </tr>\n",
       "    <tr>\n",
       "      <th>2011-01-31</th>\n",
       "      <td>54.0</td>\n",
       "      <td>45.5</td>\n",
       "    </tr>\n",
       "    <tr>\n",
       "      <th>2011-03-31</th>\n",
       "      <td>70.5</td>\n",
       "      <td>58.0</td>\n",
       "    </tr>\n",
       "    <tr>\n",
       "      <th>2011-05-31</th>\n",
       "      <td>66.0</td>\n",
       "      <td>68.0</td>\n",
       "    </tr>\n",
       "    <tr>\n",
       "      <th>2011-07-31</th>\n",
       "      <td>41.5</td>\n",
       "      <td>22.0</td>\n",
       "    </tr>\n",
       "    <tr>\n",
       "      <th>2011-09-30</th>\n",
       "      <td>32.5</td>\n",
       "      <td>27.5</td>\n",
       "    </tr>\n",
       "    <tr>\n",
       "      <th>2011-11-30</th>\n",
       "      <td>37.5</td>\n",
       "      <td>47.0</td>\n",
       "    </tr>\n",
       "    <tr>\n",
       "      <th>2012-01-31</th>\n",
       "      <td>48.0</td>\n",
       "      <td>44.5</td>\n",
       "    </tr>\n",
       "    <tr>\n",
       "      <th>2012-03-31</th>\n",
       "      <td>45.0</td>\n",
       "      <td>47.5</td>\n",
       "    </tr>\n",
       "    <tr>\n",
       "      <th>2012-05-31</th>\n",
       "      <td>48.5</td>\n",
       "      <td>48.0</td>\n",
       "    </tr>\n",
       "    <tr>\n",
       "      <th>2012-07-31</th>\n",
       "      <td>32.0</td>\n",
       "      <td>24.5</td>\n",
       "    </tr>\n",
       "    <tr>\n",
       "      <th>2012-09-30</th>\n",
       "      <td>26.0</td>\n",
       "      <td>31.0</td>\n",
       "    </tr>\n",
       "    <tr>\n",
       "      <th>2012-11-30</th>\n",
       "      <td>38.0</td>\n",
       "      <td>33.0</td>\n",
       "    </tr>\n",
       "    <tr>\n",
       "      <th>2013-01-31</th>\n",
       "      <td>40.0</td>\n",
       "      <td>32.0</td>\n",
       "    </tr>\n",
       "  </tbody>\n",
       "</table>\n",
       "</div>"
      ],
      "text/plain": [
       "            SEOUL  BAENG\n",
       "2009-01-31   57.0   40.0\n",
       "2009-03-31   70.0   73.5\n",
       "2009-05-31   59.5   58.0\n",
       "2009-07-31   43.0   37.0\n",
       "2009-09-30   35.0   48.0\n",
       "2009-11-30   46.0   46.0\n",
       "2010-01-31   62.0   47.5\n",
       "2010-03-31   53.5   46.0\n",
       "2010-05-31   50.5   44.5\n",
       "2010-07-31   39.0   26.0\n",
       "2010-09-30   30.0   24.5\n",
       "2010-11-30   53.5   46.5\n",
       "2011-01-31   54.0   45.5\n",
       "2011-03-31   70.5   58.0\n",
       "2011-05-31   66.0   68.0\n",
       "2011-07-31   41.5   22.0\n",
       "2011-09-30   32.5   27.5\n",
       "2011-11-30   37.5   47.0\n",
       "2012-01-31   48.0   44.5\n",
       "2012-03-31   45.0   47.5\n",
       "2012-05-31   48.5   48.0\n",
       "2012-07-31   32.0   24.5\n",
       "2012-09-30   26.0   31.0\n",
       "2012-11-30   38.0   33.0\n",
       "2013-01-31   40.0   32.0"
      ]
     },
     "execution_count": 48,
     "metadata": {},
     "output_type": "execute_result"
    }
   ],
   "source": [
    "PM10_2m"
   ]
  },
  {
   "cell_type": "code",
   "execution_count": 49,
   "id": "df2ad19b",
   "metadata": {},
   "outputs": [
    {
     "data": {
      "text/plain": [
       "<AxesSubplot:>"
      ]
     },
     "execution_count": 49,
     "metadata": {},
     "output_type": "execute_result"
    },
    {
     "data": {
      "image/png": "[encoded data removed]",
      "text/plain": [
       "<Figure size 432x288 with 1 Axes>"
      ]
     },
     "metadata": {
      "needs_background": "light"
     },
     "output_type": "display_data"
    }
   ],
   "source": [
    "SEOUL_2m=SEOUL.resample('2M').agg(['mean',np.min,np.max]) #격월간 mean,min, max 3열로 resampling\n",
    "SEOUL_2m['2009':'2013'].plot()"
   ]
  },
  {
   "cell_type": "code",
   "execution_count": 50,
   "id": "064c303d",
   "metadata": {},
   "outputs": [
    {
     "data": {
      "text/plain": [
       "array([<AxesSubplot:>, <AxesSubplot:>, <AxesSubplot:>], dtype=object)"
      ]
     },
     "execution_count": 50,
     "metadata": {},
     "output_type": "execute_result"
    },
    {
     "data": {
      "image/png": "[encoded data removed]",
      "text/plain": [
       "<Figure size 432x288 with 3 Axes>"
      ]
     },
     "metadata": {
      "needs_background": "light"
     },
     "output_type": "display_data"
    }
   ],
   "source": [
    "SEOUL_2m['2009':'2013'].plot(subplots=True)"
   ]
  },
  {
   "cell_type": "code",
   "execution_count": null,
   "id": "2a6155b6",
   "metadata": {},
   "outputs": [],
   "source": []
  },
  {
   "cell_type": "code",
   "execution_count": null,
   "id": "679c756a",
   "metadata": {},
   "outputs": [],
   "source": []
  }
 ],
 "metadata": {
  "kernelspec": {
   "display_name": "Python 3 (ipykernel)",
   "language": "python",
   "name": "python3"
  },
  "language_info": {
   "codemirror_mode": {
    "name": "ipython",
    "version": 3
   },
   "file_extension": ".py",
   "mimetype": "text/x-python",
   "name": "python",
   "nbconvert_exporter": "python",
   "pygments_lexer": "ipython3",
   "version": "3.9.7"
  }
 },
 "nbformat": 4,
 "nbformat_minor": 5
}
